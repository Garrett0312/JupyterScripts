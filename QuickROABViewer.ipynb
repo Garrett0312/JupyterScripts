{
 "cells": [
  {
   "cell_type": "code",
   "execution_count": null,
   "id": "f53d14f3-2ecb-4491-845e-ca3e55f3e63a",
   "metadata": {
    "scrolled": true
   },
   "outputs": [],
   "source": [
    "#spy.get_obs_data(station, year, month, day, hour, hush=False, clean_it=True)\n",
    "#spy.build_sounding(dat, dark_mode=True, special_parcels='simple', map_zoom=0)"
   ]
  },
  {
   "cell_type": "code",
   "execution_count": null,
   "id": "cdc2d083-ef5d-4a7c-9313-b28633ffbb0b",
   "metadata": {},
   "outputs": [],
   "source": [
    "%pip install metpy\n",
    "%pip install sounderpy\n",
    "###################################################################################\n",
    "import requests\n",
    "from bs4 import BeautifulSoup\n",
    "from datetime import date, datetime, timezone\n",
    "import sounderpy as spy\n",
    "\n",
    "\n",
    "utchr = (datetime.now(timezone.utc)).strftime(\"%H\")\n",
    "utcyr = (datetime.now(timezone.utc)).strftime(\"%Y\")\n",
    "utcmo = (datetime.now(timezone.utc)).strftime(\"%m\")\n",
    "utcday = (datetime.now(timezone.utc)).strftime(\"%d\")\n",
    "utc = (datetime.now(timezone.utc)).strftime(\"%y%m%d\")\n",
    "WFO = 'DVN'\n",
    "\n",
    "if int(utchr) in range(3,12):\n",
    "    lasthr = 0\n",
    "    current = str((utc))+\"00\"\n",
    "else:\n",
    "    lasthr = 12\n",
    "    current = str((utc))+\"12\"\n",
    "\n",
    "#######################################################################################\n",
    "URL = 'https://www.spc.noaa.gov/exper/soundings/'+current+'_OBS/DVN.txt'\n",
    "page = requests.get(URL)\n",
    "soup = (BeautifulSoup(page.content, 'html.parser'))\n",
    "f = (soup.get_text())\n",
    "snd = (f[f.find(\"%RAW%\")+6:f.find(\"%END%\")]).split('\\n')\n",
    "par = (f[f.find(\"%END%\")+7:]).split('\\n')\n",
    "mixed = (f[f.find(\"*** 100mb MIXED LAYER PARCEL ***\"):f.find(\"*** MU PARCEL IN LOWEST 400mb ***\")]).split('\\n')\n",
    "sfcb = (f[f.find(\"*** SFC PARCEL ***\"):f.find(\"----- Misc Thermodynamic Parameters -----\")]).split('\\n')\n",
    "thermo = (f[f.find(\"----- Misc Thermodynamic Parameters -----\"):f.find(\"----- Moisture -----\")]).split('\\n')\n",
    "moisture = (f[f.find(\"----- Moisture -----\"):f.find(\"----- Vertical Shear -----\")]).split('\\n')\n",
    "shear = (f[f.find(\"----- Storm_Relative Winds/Shear -----\"):f.find(\"----- Effective Inflow Layer Parameters -----\")]).split('\\n')\n",
    "compar = (f[f.find(\"----- Composite Parameters -----\"):f.find(\"----- Fire Weather -----\")]).split('\\n')\n",
    "print('###########################################################')\n",
    "print('###########################################################')\n",
    "print('###########################################################\\n\\n')\n",
    "\n",
    "for a,b in zip(mixed, sfcb):\n",
    "    print(a.center(100),b.center(40))\n",
    "\n",
    "for a,b,c,d in zip(thermo, moisture, shear, compar):\n",
    "    print(a.center(40),b.center(40),c.center(40),d.center(40))"
   ]
  },
  {
   "cell_type": "code",
   "execution_count": null,
   "id": "6c168be9-ed16-4399-b170-e3bd04755e00",
   "metadata": {},
   "outputs": [],
   "source": [
    "dat = spy.get_obs_data(WFO, utcyr, utcmo, utcday, lasthr, hush=True, clean_it=True)\n",
    "spy.build_sounding(dat, dark_mode=True, map_zoom=0)"
   ]
  }
 ],
 "metadata": {
  "kernelspec": {
   "display_name": "Python 3 (ipykernel)",
   "language": "python",
   "name": "python3"
  },
  "language_info": {
   "codemirror_mode": {
    "name": "ipython",
    "version": 3
   },
   "file_extension": ".py",
   "mimetype": "text/x-python",
   "name": "python",
   "nbconvert_exporter": "python",
   "pygments_lexer": "ipython3",
   "version": "3.10.16"
  }
 },
 "nbformat": 4,
 "nbformat_minor": 5
}
