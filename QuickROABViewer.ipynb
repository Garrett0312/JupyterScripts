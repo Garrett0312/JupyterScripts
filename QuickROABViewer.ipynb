{
 "cells": [
  {
   "cell_type": "code",
   "execution_count": null,
   "id": "f53d14f3-2ecb-4491-845e-ca3e55f3e63a",
   "metadata": {
    "scrolled": true
   },
   "outputs": [],
   "source": [
    "#spy.get_obs_data(station, year, month, day, hour, hush=False, clean_it=True)\n",
    "#spy.build_sounding(dat, dark_mode=True, special_parcels='simple', map_zoom=0)"
   ]
  },
  {
   "cell_type": "code",
   "execution_count": null,
   "id": "cdc2d083-ef5d-4a7c-9313-b28633ffbb0b",
   "metadata": {},
   "outputs": [],
   "source": [
    "%pip install metpy\n",
    "%pip install sounderpy\n",
    "###################################################################################\n",
    "from datetime import date, datetime, timezone\n",
    "import sounderpy as spy\n",
    "utchr = (datetime.now(timezone.utc)).strftime(\"%H\")\n",
    "utcyr = (datetime.now(timezone.utc)).strftime(\"%Y\")\n",
    "utcmo = (datetime.now(timezone.utc)).strftime(\"%m\")\n",
    "utcday = (datetime.now(timezone.utc)).strftime(\"%d\")\n",
    "WFO = 'DVN'\n",
    "\n",
    "if int(utchr) in range(3,12):\n",
    "    current = str((utc))+\"00\"\n",
    "    lasthr = 0\n",
    "else:\n",
    "    current = str(utc)+\"12\"\n",
    "    lasthr = 12"
   ]
  },
  {
   "cell_type": "code",
   "execution_count": null,
   "id": "6c168be9-ed16-4399-b170-e3bd04755e00",
   "metadata": {},
   "outputs": [],
   "source": [
    "dat = spy.get_obs_data(WFO, utcyr, utcmo, utcday, lasthr, hush=True, clean_it=True)\n",
    "spy.build_sounding(dat, dark_mode=True, map_zoom=0)"
   ]
  }
 ],
 "metadata": {
  "kernelspec": {
   "display_name": "Python 3 (ipykernel)",
   "language": "python",
   "name": "python3"
  },
  "language_info": {
   "codemirror_mode": {
    "name": "ipython",
    "version": 3
   },
   "file_extension": ".py",
   "mimetype": "text/x-python",
   "name": "python",
   "nbconvert_exporter": "python",
   "pygments_lexer": "ipython3",
   "version": "3.10.16"
  }
 },
 "nbformat": 4,
 "nbformat_minor": 5
}
