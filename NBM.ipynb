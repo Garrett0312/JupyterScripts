{
 "cells": [
  {
   "cell_type": "code",
   "execution_count": 1,
   "id": "8ff8097d-99c2-4df9-8f54-26b0f6688bba",
   "metadata": {},
   "outputs": [],
   "source": [
    "import requests\n",
    "from bs4 import BeautifulSoup\n",
    "from datetime import date \n",
    "from datetime import datetime, timezone\n",
    "\n"
   ]
  },
  {
   "cell_type": "code",
   "execution_count": 4,
   "id": "ee37ba40-a160-4539-9710-cfeb22aa3c8b",
   "metadata": {},
   "outputs": [
    {
     "name": "stdout",
     "output_type": "stream",
     "text": [
      "15 20250528 2025052812\n"
     ]
    }
   ],
   "source": [
    "utchr = (datetime.now(timezone.utc)).strftime(\"%H\")\n",
    "\n",
    "utc = (datetime.now(timezone.utc)).strftime(\"%Y%m%d\")\n",
    "\n",
    "if int(utchr) in range(3,12):\n",
    "    current = str((utc))+\"00\"\n",
    "else:\n",
    "    current = str(utc)+\"12\"\n",
    "\n",
    "print(utchr, utc, current)"
   ]
  },
  {
   "cell_type": "code",
   "execution_count": 67,
   "id": "512861cf-f957-486f-9b36-adae49e5c17b",
   "metadata": {},
   "outputs": [],
   "source": [
    "URL = 'https://nomads.ncep.noaa.gov/pub/data/nccf/com/blend/prod/blend.'+utc+'/'\n",
    "page = requests.get(URL)\n",
    "soup = (BeautifulSoup(page.content, 'html.parser'))\n",
    "f = (soup.get_text())\n",
    "s = f.split('\\n')\n",
    "a = [(x.split(\" \")) for x in s if x.strip()]\n",
    "ind=[]\n",
    "for i in a:\n",
    "    t = [x.strip(\"/\") for x in i if x.strip()]\n",
    "    ind.append(t)\n",
    "indx = ind[3:]\n",
    "#for i in indx:\n",
    "#    print('NBM '+i[0]+'z')\n",
    "runhr = [i[0] for i in indx]"
   ]
  },
  {
   "cell_type": "code",
   "execution_count": 71,
   "id": "4ab54149-6f22-43ce-a868-bdb251540b9f",
   "metadata": {},
   "outputs": [
    {
     "name": "stdout",
     "output_type": "stream",
     "text": [
      "Here's a list of available NBM runs\n",
      " ['00', '01', '02', '03', '04', '05', '06', '07', '08', '09', '10', '11', '12', '13', '14', '15', '16']\n"
     ]
    },
    {
     "name": "stdin",
     "output_type": "stream",
     "text": [
      "What run would you like? <hit enter for current run or type run hour> \n"
     ]
    },
    {
     "name": "stdout",
     "output_type": "stream",
     "text": [
      "16\n",
      "https://nomads.ncep.noaa.gov/pub/data/nccf/com/blend/prod/blend.20250528/16/text/blend_nbetx.t16z\n"
     ]
    }
   ],
   "source": [
    "while True:\n",
    "    try:\n",
    "        print(\"Here's a list of available NBM runs\\n\", runhr)\n",
    "        #for i in indx:\n",
    "        #    print('NBM '+i[0]+'z')\n",
    "        run = input(\"What run would you like? <hit enter for current run or type run hour>\")\n",
    "        if run == '':\n",
    "            hr = indx[-1][0]\n",
    "            break\n",
    "        if len(run)<2:\n",
    "            run = '0'+run\n",
    "        if run in runhr:\n",
    "            hr = run\n",
    "            break\n",
    "        else:\n",
    "            print('Please a valid run hour')\n",
    "    except ValueError:\n",
    "        print(\"Invalid input. Please a valid run hour\")\n",
    "print(hr)\n",
    "\n",
    "newurl = 'https://nomads.ncep.noaa.gov/pub/data/nccf/com/blend/prod/blend.'+utc+'/'+hr+'/text/blend_nbetx.t'+hr+'z'\n",
    "print(newurl)"
   ]
  },
  {
   "cell_type": "code",
   "execution_count": 78,
   "id": "00c9adb5-3d68-484b-b23f-7a3b7284e024",
   "metadata": {},
   "outputs": [
    {
     "name": "stdin",
     "output_type": "stream",
     "text": [
      "Enter a valid airport code cid\n"
     ]
    },
    {
     "name": "stdout",
     "output_type": "stream",
     "text": [
      "C\n",
      "KCID\n"
     ]
    }
   ],
   "source": [
    "wmo = (input('Enter a valid airport code')).upper()\n",
    "print(wmo[0])\n",
    "if len(wmo)<4 and wmo[0]!='K':\n",
    "    wmo = 'K'+wmo\n",
    "print(wmo)"
   ]
  },
  {
   "cell_type": "code",
   "execution_count": 74,
   "id": "da6ec766-14a4-47d9-b735-0fb675e77c74",
   "metadata": {},
   "outputs": [
    {
     "name": "stdin",
     "output_type": "stream",
     "text": [
      "Enter a valid airport code kcid\n"
     ]
    },
    {
     "name": "stdout",
     "output_type": "stream",
     "text": [
      "KCID\n"
     ]
    }
   ],
   "source": [
    "wmo = (input('Enter a valid airport code')).upper()\n",
    "#if len(wmo)<4 and \n",
    "\n",
    "npage = requests.get(newurl)\n",
    "nsoup = (BeautifulSoup(npage.content, 'html.parser'))\n",
    "nf = (nsoup.get_text())\n",
    "#print(nf)\n",
    "#d = (nf[nf.find(\"%RAW%\")+6:nf.find(\"%END%\")]).split('\\n')"
   ]
  },
  {
   "cell_type": "code",
   "execution_count": null,
   "id": "869378b3-c516-473a-8068-2b62c6b0ade4",
   "metadata": {},
   "outputs": [],
   "source": [
    "utchr = (datetime.now(timezone.utc)).strftime(\"%H\")\n",
    "\n",
    "utc = (datetime.now(timezone.utc)).strftime(\"%y%m%d\")\n",
    "\n",
    "if int(utchr) in range(3,12):\n",
    "    current = str((utc))+\"00\"\n",
    "else:\n",
    "    current = str(utc)+\"12\"\n",
    "\n",
    "URL = 'https://www.spc.noaa.gov/exper/soundings/'+current+'_OBS/DVN.txt'\n",
    "page = requests.get(URL)\n",
    "soup = (BeautifulSoup(page.content, 'html.parser'))\n",
    "f = (soup.get_text())\n",
    "snd = (f[f.find(\"%RAW%\")+6:f.find(\"%END%\")]).split('\\n')\n",
    "\n",
    "dat =[]\n",
    "for i in snd[1:-1]:\n",
    "    com = i.split(\",\")\n",
    "    t = (com[0]).strip(' ')\n",
    "    if float(t) >= 850.00:\n",
    "        dat.append(i.split(','))\n",
    "data = []\n",
    "for i in dat:\n",
    "    v=[]\n",
    "    for x in i:\n",
    "        v.append(float(x))\n",
    "    data.append(v)"
   ]
  }
 ],
 "metadata": {
  "kernelspec": {
   "display_name": "Python 3 (ipykernel)",
   "language": "python",
   "name": "python3"
  },
  "language_info": {
   "codemirror_mode": {
    "name": "ipython",
    "version": 3
   },
   "file_extension": ".py",
   "mimetype": "text/x-python",
   "name": "python",
   "nbconvert_exporter": "python",
   "pygments_lexer": "ipython3",
   "version": "3.10.16"
  }
 },
 "nbformat": 4,
 "nbformat_minor": 5
}
