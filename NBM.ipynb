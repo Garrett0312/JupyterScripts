{
 "cells": [
  {
   "cell_type": "code",
   "execution_count": 1,
   "id": "8ff8097d-99c2-4df9-8f54-26b0f6688bba",
   "metadata": {},
   "outputs": [],
   "source": [
    "import requests\n",
    "from bs4 import BeautifulSoup\n",
    "from datetime import date \n",
    "from datetime import datetime, timezone\n",
    "\n"
   ]
  },
  {
   "cell_type": "code",
   "execution_count": 4,
   "id": "ee37ba40-a160-4539-9710-cfeb22aa3c8b",
   "metadata": {},
   "outputs": [
    {
     "name": "stdout",
     "output_type": "stream",
     "text": [
      "15 20250528 2025052812\n"
     ]
    }
   ],
   "source": [
    "utchr = (datetime.now(timezone.utc)).strftime(\"%H\")\n",
    "\n",
    "utc = (datetime.now(timezone.utc)).strftime(\"%Y%m%d\")\n",
    "\n",
    "if int(utchr) in range(3,12):\n",
    "    current = str((utc))+\"00\"\n",
    "else:\n",
    "    current = str(utc)+\"12\"\n",
    "\n",
    "print(utchr, utc, current)"
   ]
  },
  {
   "cell_type": "code",
   "execution_count": 51,
   "id": "512861cf-f957-486f-9b36-adae49e5c17b",
   "metadata": {},
   "outputs": [
    {
     "name": "stdout",
     "output_type": "stream",
     "text": [
      "['00/', '28-May-2025', '06:38', '-']\n"
     ]
    }
   ],
   "source": [
    "#URL = 'https://www.spc.noaa.gov/exper/soundings/'+current+'_OBS/DVN.txt'\n",
    "#URL = 'https://nomads.ncep.noaa.gov/pub/data/nccf/com/blend/prod/blend.20250527/''\n",
    "URL = 'https://nomads.ncep.noaa.gov/pub/data/nccf/com/blend/prod/blend.'+utc+'/'\n",
    "\n",
    "\n",
    "page = requests.get(URL)\n",
    "soup = (BeautifulSoup(page.content, 'html.parser'))\n",
    "f = (soup.get_text())\n",
    "#snd = (f[f.find(\"%RAW%\")+6:f.find(\"%END%\")]).split('\\n')\n",
    "\n",
    "s = f.split('\\n')\n",
    "#for i in s:\n",
    "#   print(i)\n",
    "#print(s[8])\n",
    "'''\n",
    "dat = []\n",
    "for i in s[1:-1]:\n",
    "    com = i.split(\"/\")\n",
    "    a = [x for x in com if x.strip()]\n",
    "    #com[:] = [x for x in com if x]\n",
    "    #com = list(filter(None, com))\n",
    "    print(a)\n",
    "    #t = (com[0]).strip(' ')\n",
    "    dat.append(a)\n",
    "'''\n",
    "a = [(x.split(\" \")) for x in s if x.strip()]\n",
    "indx=[]\n",
    "for i in a:\n",
    "    t = [x for x in i if x.strip()]\n",
    "    indx.append(t)\n",
    "\n",
    "print(indx[3])"
   ]
  },
  {
   "cell_type": "code",
   "execution_count": null,
   "id": "869378b3-c516-473a-8068-2b62c6b0ade4",
   "metadata": {},
   "outputs": [],
   "source": [
    "utchr = (datetime.now(timezone.utc)).strftime(\"%H\")\n",
    "\n",
    "utc = (datetime.now(timezone.utc)).strftime(\"%y%m%d\")\n",
    "\n",
    "if int(utchr) in range(3,12):\n",
    "    current = str((utc))+\"00\"\n",
    "else:\n",
    "    current = str(utc)+\"12\"\n",
    "\n",
    "URL = 'https://www.spc.noaa.gov/exper/soundings/'+current+'_OBS/DVN.txt'\n",
    "page = requests.get(URL)\n",
    "soup = (BeautifulSoup(page.content, 'html.parser'))\n",
    "f = (soup.get_text())\n",
    "snd = (f[f.find(\"%RAW%\")+6:f.find(\"%END%\")]).split('\\n')\n",
    "\n",
    "dat =[]\n",
    "for i in snd[1:-1]:\n",
    "    com = i.split(\",\")\n",
    "    t = (com[0]).strip(' ')\n",
    "    if float(t) >= 850.00:\n",
    "        dat.append(i.split(','))\n",
    "data = []\n",
    "for i in dat:\n",
    "    v=[]\n",
    "    for x in i:\n",
    "        v.append(float(x))\n",
    "    data.append(v)"
   ]
  }
 ],
 "metadata": {
  "kernelspec": {
   "display_name": "Python 3 (ipykernel)",
   "language": "python",
   "name": "python3"
  },
  "language_info": {
   "codemirror_mode": {
    "name": "ipython",
    "version": 3
   },
   "file_extension": ".py",
   "mimetype": "text/x-python",
   "name": "python",
   "nbconvert_exporter": "python",
   "pygments_lexer": "ipython3",
   "version": "3.10.16"
  }
 },
 "nbformat": 4,
 "nbformat_minor": 5
}
