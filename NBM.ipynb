{
 "cells": [
  {
   "cell_type": "code",
   "execution_count": 142,
   "id": "8ff8097d-99c2-4df9-8f54-26b0f6688bba",
   "metadata": {},
   "outputs": [],
   "source": [
    "import requests\n",
    "from bs4 import BeautifulSoup\n",
    "#from datetime import date \n",
    "from datetime import datetime, timezone, date, timedelta\n",
    "\n"
   ]
  },
  {
   "cell_type": "code",
   "execution_count": 3,
   "id": "ee37ba40-a160-4539-9710-cfeb22aa3c8b",
   "metadata": {},
   "outputs": [
    {
     "name": "stdout",
     "output_type": "stream",
     "text": [
      "17 20250528 2025052812\n"
     ]
    }
   ],
   "source": [
    "utchr = (datetime.now(timezone.utc)).strftime(\"%H\")\n",
    "\n",
    "utc = (datetime.now(timezone.utc)).strftime(\"%Y%m%d\")\n",
    "\n",
    "if int(utchr) in range(3,12):\n",
    "    current = str((utc))+\"00\"\n",
    "else:\n",
    "    current = str(utc)+\"12\"\n",
    "\n",
    "print(utchr, utc, current)"
   ]
  },
  {
   "cell_type": "code",
   "execution_count": 4,
   "id": "512861cf-f957-486f-9b36-adae49e5c17b",
   "metadata": {},
   "outputs": [],
   "source": [
    "URL = 'https://nomads.ncep.noaa.gov/pub/data/nccf/com/blend/prod/blend.'+utc+'/'\n",
    "page = requests.get(URL)\n",
    "soup = (BeautifulSoup(page.content, 'html.parser'))\n",
    "f = (soup.get_text())\n",
    "s = f.split('\\n')\n",
    "a = [(x.split(\" \")) for x in s if x.strip()]\n",
    "ind=[]\n",
    "for i in a:\n",
    "    t = [x.strip(\"/\") for x in i if x.strip()]\n",
    "    ind.append(t)\n",
    "indx = ind[3:]\n",
    "#for i in indx:\n",
    "#    print('NBM '+i[0]+'z')\n",
    "runhr = [i[0] for i in indx]"
   ]
  },
  {
   "cell_type": "code",
   "execution_count": 5,
   "id": "4ab54149-6f22-43ce-a868-bdb251540b9f",
   "metadata": {},
   "outputs": [
    {
     "name": "stdout",
     "output_type": "stream",
     "text": [
      "Here's a list of available NBM runs\n",
      " ['00', '01', '02', '03', '04', '05', '06', '07', '08', '09', '10', '11', '12', '13', '14', '15', '16']\n"
     ]
    },
    {
     "name": "stdin",
     "output_type": "stream",
     "text": [
      "What run would you like? <hit enter for current run or type run hour> \n"
     ]
    },
    {
     "name": "stdout",
     "output_type": "stream",
     "text": [
      "16\n",
      "https://nomads.ncep.noaa.gov/pub/data/nccf/com/blend/prod/blend.20250528/16/text/blend_nbetx.t16z\n"
     ]
    }
   ],
   "source": [
    "while True:\n",
    "    try:\n",
    "        print(\"Here's a list of available NBM runs\\n\", runhr)\n",
    "        #for i in indx:\n",
    "        #    print('NBM '+i[0]+'z')\n",
    "        run = input(\"What run would you like? <hit enter for current run or type run hour>\")\n",
    "        if run == '':\n",
    "            hr = indx[-1][0]\n",
    "            break\n",
    "        if len(run)<2:\n",
    "            run = '0'+run\n",
    "        if run in runhr:\n",
    "            hr = run\n",
    "            break\n",
    "        else:\n",
    "            print('Please a valid run hour')\n",
    "    except ValueError:\n",
    "        print(\"Invalid input. Please a valid run hour\")\n",
    "print(hr)\n",
    "\n",
    "newurl = 'https://nomads.ncep.noaa.gov/pub/data/nccf/com/blend/prod/blend.'+utc+'/'+hr+'/text/blend_nbetx.t'+hr+'z'\n",
    "print(newurl)"
   ]
  },
  {
   "cell_type": "code",
   "execution_count": 78,
   "id": "00c9adb5-3d68-484b-b23f-7a3b7284e024",
   "metadata": {},
   "outputs": [
    {
     "name": "stdin",
     "output_type": "stream",
     "text": [
      "Enter a valid airport code cid\n"
     ]
    },
    {
     "name": "stdout",
     "output_type": "stream",
     "text": [
      "C\n",
      "KCID\n"
     ]
    }
   ],
   "source": [
    "wmo = (input('Enter a valid airport code')).upper()\n",
    "print(wmo[0])\n",
    "if len(wmo)<4 and wmo[0]!='K':\n",
    "    wmo = 'K'+wmo\n",
    "print(wmo)"
   ]
  },
  {
   "cell_type": "code",
   "execution_count": 50,
   "id": "da6ec766-14a4-47d9-b735-0fb675e77c74",
   "metadata": {},
   "outputs": [
    {
     "name": "stdout",
     "output_type": "stream",
     "text": [
      "KCID    NBM V4.3 NBE GUIDANCE    5/28/2025  1600 UTC                    \n",
      "   THU 29 |FRI 30 |SAT 31 |SUN 01 |MON 02 |TUE 03 |WED 04 |THU 05  CLIMO \n",
      " UTC    12| 00  12| 00  12| 00  12| 00  12| 00  12| 00  12| 00  12       \n",
      " FHR    20| 32  44| 56  68| 80  92|104 116|128 140|152 164|176 188       \n",
      " TXN    50| 73  52| 82  58| 85  58| 85  60| 88  65| 87  67| 86  66  55 76\n",
      " XND     2|  2   2|  2   3|  3   3|  3   3|  3   4|  3   3|  2   4       \n",
      " TMP    53| 69  56| 76  61| 79  60| 81  63| 83  67| 82  68| 82  68       \n",
      " TSD     2|  2   1|  3   3|  4   3|  4   3|  3   4|  3   3|  4   4       \n",
      " DPT    50| 50  50| 50  51| 55  53| 55  54| 57  59| 61  62| 63  62       \n",
      " DSD     2|  2   1|  3   3|  4   3|  4   3|  3   3|  3   3|  4   4       \n",
      " SKY    43| 46  16|  4   3| 29  16| 10   5| 18  45| 66  68| 50  42       \n",
      " SSD    36| 33  18| 11   4| 25  28| 20   5| 19  26| 12  29| 24  25       \n",
      " WDR     2| 35  32| 31  30| 34  14| 18  17| 18  17| 18  19| 18  18       \n",
      " WSP     4|  7   9| 12   9|  7   6|  6   8| 11  12| 14  12| 12  11       \n",
      " WSD     2|  3   2|  3   3|  4   3|  3   2|  4   3|  4   3|  4   4       \n",
      " GST     6|  9  11| 17  12|  9   8|  7  10| 15  17| 21  17| 16  15       \n",
      " GSD     2|  3   3|  4   4|  5   3|  4   3|  6   5|  6   5|  6   6       \n",
      " P12     7| 22   5|  4   0| 11   4|  4   1|  4  10| 28  45| 37  43  16 37\n",
      " Q12     0|  0   0|  0   0|  0   0|  0   0|  0   0|  1  28|  3  28       \n",
      " Q24      |      0|      0|      0|      0|      0|     29|     31 119   \n",
      " DUR     0|  2   0|  0   0|  0   0|  0   0|  0   0|  1   4|  1   5       \n",
      " T12    10| 15  15| 14  11| 38  34| 16  21| 23  29| 26  42| 33  34       \n",
      " PZR     0|  0   0|  0   0|  0   0|  0   0|  0   0|  0   0|  0   0       \n",
      " PSN     0|  0   0|  0   0|  0   0|  0   0|  0   0|  0   0|  0   0       \n",
      " PPL     0|  0   0|  0   0|  0   0|  0   0|  0   0|  0   0|  0   0       \n",
      " PRA     1|  3   0|  4   0| 21   0|  2   1|  6  12| 25  47| 33  49       \n",
      " S12     0|  0   0|  0   0|  0   0|  0   0|  0   0|  0   0|  0   0       \n",
      " SLV    75| 76  78| 87  90| 96  90| 95  95|100 110|120 120|120 120       \n",
      " I12     0|  0   0|  0   0|  0   0|  0   0|  0   0|  0   0|  0   0       \n",
      " SOL     2| 50   4| 60   3| 66   3| 67   3| 63   2| 28   1| 28   1       \n"
     ]
    }
   ],
   "source": [
    "#wmo = (input('Enter a valid airport code')).upper()\n",
    "#if len(wmo)<4 and wmo[0]!='K':\n",
    "#    wmo = 'K'+wmo\n",
    "wmo = 'KCID'\n",
    "npage = requests.get(newurl)\n",
    "nsoup = (BeautifulSoup(npage.content, 'html.parser'))\n",
    "nf = (nsoup.get_text())\n",
    "#print(nf)\n",
    "d = ((nf[nf.find(\"KCID\"):]).split('\\n'))[:50]\n",
    "nbm=[]\n",
    "\n",
    "for i in d:\n",
    "    if not i.strip():\n",
    "        break\n",
    "    else:\n",
    "        nbm.append(i)\n",
    "\n",
    "for i in nbm:\n",
    "    print(i)"
   ]
  },
  {
   "cell_type": "code",
   "execution_count": 215,
   "id": "8c443f7b-78e5-432e-ac63-8a7ec8b0b9df",
   "metadata": {},
   "outputs": [
    {
     "name": "stdout",
     "output_type": "stream",
     "text": [
      "[['12'], ['00', '12'], ['00', '12'], ['00', '12'], ['00', '12'], ['00', '12'], ['00', '12'], ['00', '12']]\n",
      "[['20'], ['32', '44'], ['56', '68'], ['80', '92'], ['104', '116'], ['128', '140'], ['152', '164'], ['176', '188']]\n",
      "[['50'], ['73', '52'], ['82', '58'], ['85', '58'], ['85', '60'], ['88', '65'], ['87', '67'], ['86', '66', '55', '76']]\n",
      "[['2'], ['2', '2'], ['2', '3'], ['3', '3'], ['3', '3'], ['3', '4'], ['3', '3'], ['2', '4']]\n",
      "[['53'], ['69', '56'], ['76', '61'], ['79', '60'], ['81', '63'], ['83', '67'], ['82', '68'], ['82', '68']]\n",
      "[['2'], ['2', '1'], ['3', '3'], ['4', '3'], ['4', '3'], ['3', '4'], ['3', '3'], ['4', '4']]\n",
      "[['50'], ['50', '50'], ['50', '51'], ['55', '53'], ['55', '54'], ['57', '59'], ['61', '62'], ['63', '62']]\n",
      "[['2'], ['2', '1'], ['3', '3'], ['4', '3'], ['4', '3'], ['3', '3'], ['3', '3'], ['4', '4']]\n",
      "[['43'], ['46', '16'], ['4', '3'], ['29', '16'], ['10', '5'], ['18', '45'], ['66', '68'], ['50', '42']]\n",
      "[['36'], ['33', '18'], ['11', '4'], ['25', '28'], ['20', '5'], ['19', '26'], ['12', '29'], ['24', '25']]\n",
      "[['2'], ['35', '32'], ['31', '30'], ['34', '14'], ['18', '17'], ['18', '17'], ['18', '19'], ['18', '18']]\n",
      "[['4'], ['7', '9'], ['12', '9'], ['7', '6'], ['6', '8'], ['11', '12'], ['14', '12'], ['12', '11']]\n",
      "[['2'], ['3', '2'], ['3', '3'], ['4', '3'], ['3', '2'], ['4', '3'], ['4', '3'], ['4', '4']]\n",
      "[['6'], ['9', '11'], ['17', '12'], ['9', '8'], ['7', '10'], ['15', '17'], ['21', '17'], ['16', '15']]\n",
      "[['2'], ['3', '3'], ['4', '4'], ['5', '3'], ['4', '3'], ['6', '5'], ['6', '5'], ['6', '6']]\n",
      "[['7'], ['22', '5'], ['4', '0'], ['11', '4'], ['4', '1'], ['4', '10'], ['28', '45'], ['37', '43', '16', '37']]\n",
      "[['0'], ['0', '0'], ['0', '0'], ['0', '0'], ['0', '0'], ['0', '0'], ['1', '28'], ['3', '28']]\n",
      "[[], ['0'], ['0'], ['0'], ['0'], ['0'], ['29'], ['31', '119']]\n",
      "[['0'], ['2', '0'], ['0', '0'], ['0', '0'], ['0', '0'], ['0', '0'], ['1', '4'], ['1', '5']]\n",
      "[['10'], ['15', '15'], ['14', '11'], ['38', '34'], ['16', '21'], ['23', '29'], ['26', '42'], ['33', '34']]\n",
      "[['0'], ['0', '0'], ['0', '0'], ['0', '0'], ['0', '0'], ['0', '0'], ['0', '0'], ['0', '0']]\n",
      "[['0'], ['0', '0'], ['0', '0'], ['0', '0'], ['0', '0'], ['0', '0'], ['0', '0'], ['0', '0']]\n",
      "[['0'], ['0', '0'], ['0', '0'], ['0', '0'], ['0', '0'], ['0', '0'], ['0', '0'], ['0', '0']]\n",
      "[['1'], ['3', '0'], ['4', '0'], ['21', '0'], ['2', '1'], ['6', '12'], ['25', '47'], ['33', '49']]\n",
      "[['0'], ['0', '0'], ['0', '0'], ['0', '0'], ['0', '0'], ['0', '0'], ['0', '0'], ['0', '0']]\n",
      "[['75'], ['76', '78'], ['87', '90'], ['96', '90'], ['95', '95'], ['100', '110'], ['120', '120'], ['120', '120']]\n",
      "[['0'], ['0', '0'], ['0', '0'], ['0', '0'], ['0', '0'], ['0', '0'], ['0', '0'], ['0', '0']]\n",
      "[['2'], ['50', '4'], ['60', '3'], ['66', '3'], ['67', '3'], ['63', '2'], ['28', '1'], ['28', '1']]\n",
      "####################################################\n",
      "8 [('THU', '29'), ('FRI', '30'), ('SAT', '31'), ('SUN', '01'), ('MON', '02'), ('TUE', '03'), ('WED', '04'), ('THU', '05')]\n",
      "###### CLIMO ######\n",
      "For Sunday June, 01\n",
      "Avg High — 76ºF\n",
      "Avg Low  — 55ºF\n",
      "Avg QPF  — 1.19\"\n"
     ]
    }
   ],
   "source": [
    "nn=[(\" \".join(i.split('|'))).split() for i in nbm]\n",
    "data = {key: values for key, *values in nn[2:]}\n",
    "climo = []\n",
    "for i in data:\n",
    "    if len(data[i])>=17:\n",
    "        w = (len(data[i]))-(len(data['UTC']))\n",
    "        climo.append(data[i][-w:])\n",
    "        del data[i][-2:]\n",
    "    if len(data[i])<len(data['UTC']):\n",
    "        climo.append(data[i][-1])\n",
    "        del data[i][-1]\n",
    "#nnn=[(\" \".join(i.split('|'))) for i in nbm]\n",
    "nnn=[(i.split('|')) for i in nbm]\n",
    "#print(nnn[4])\n",
    "nnnn={}\n",
    "for i in nnn[2:]:\n",
    "    #print(i[0:])\n",
    "    y = [x.split() for x in i]\n",
    "    v = y[0][0]\n",
    "    del y[0][0]\n",
    "    #print(v, y)\n",
    "    nnnn.update({v: y})\n",
    "    \n",
    "\n",
    "for i in nnnn:\n",
    "    print(nnnn[i])\n",
    "\n",
    "print('####################################################')\n",
    "\n",
    "tt = list(zip(nn[1][::2], nn[1][1::2]))\n",
    "print(len(tt), tt)\n",
    "print(\"###### \"+str(nn[1][-1])+\" ######\")\n",
    "print(\"For \"+fd.strftime(\"%A %B, %d\")+'\\nAvg High —', str(climo[0][1])+'ºF')\n",
    "print('Avg Low  —', str(climo[0][0])+'ºF')\n",
    "print('Avg QPF  —', str(int(climo[2])/100)+'\"')"
   ]
  },
  {
   "cell_type": "code",
   "execution_count": null,
   "id": "403537c7-20c9-4694-b12f-5200b320e25f",
   "metadata": {},
   "outputs": [],
   "source": []
  }
 ],
 "metadata": {
  "kernelspec": {
   "display_name": "Python 3 (ipykernel)",
   "language": "python",
   "name": "python3"
  },
  "language_info": {
   "codemirror_mode": {
    "name": "ipython",
    "version": 3
   },
   "file_extension": ".py",
   "mimetype": "text/x-python",
   "name": "python",
   "nbconvert_exporter": "python",
   "pygments_lexer": "ipython3",
   "version": "3.10.16"
  }
 },
 "nbformat": 4,
 "nbformat_minor": 5
}
