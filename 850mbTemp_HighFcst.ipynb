{
 "cells": [
  {
   "cell_type": "code",
   "execution_count": 3,
   "id": "89cd9c6b-3642-441d-b5f6-c47acfd0d9cd",
   "metadata": {},
   "outputs": [],
   "source": [
    "#HIGH TEMPERATURE BASED ON WARMEST TEMP IN LOWEST 850MB\n",
    "#\t- Bring down warmest temperature between 850mb & sfc to the SFC dry adiabatically to get the daily high\n",
    "#\t\t- in other words, find the potential temperature of the warmest layer at the sfc (and not 1000mb like the actual potential temperature calculation)\n",
    "#\t- Key notes:\n",
    "#\t\t- With light winds the 850mb high temp will likely be warmer than the actual high due to poor mixing\n",
    "#\t\t- With strong winds the 850mb high will likely be cooler due to a well mixed PBL or low level layer\n",
    "#\t\t- The method works best in locations near sea level, in the warm season, on barotropic days, with flat topography, on moderate windy cloud-free days.\n",
    "\n",
    "\n",
    "#Go to:\n",
    "#https://jupyter.org/try-jupyter/lab/\n",
    "\n",
    "\n",
    "\n"
   ]
  },
  {
   "cell_type": "code",
   "execution_count": 15,
   "id": "0924a38e-831f-44ff-88fe-c953e44cc56b",
   "metadata": {},
   "outputs": [
    {
     "name": "stdout",
     "output_type": "stream",
     "text": [
      "Sounding data from: DVN at 25052812 \n",
      "\n",
      "Based on warmest temp between 850mb\n",
      "Today's High will be around: 78°F\n",
      "#################################################################\n",
      "Based on the 850mb temp alone\n",
      "Today's High will be around: 66°F\n"
     ]
    }
   ],
   "source": [
    "import requests\n",
    "from bs4 import BeautifulSoup\n",
    "from datetime import date \n",
    "from datetime import datetime, timezone\n",
    "\n",
    "utchr = (datetime.now(timezone.utc)).strftime(\"%H\")\n",
    "\n",
    "utc = (datetime.now(timezone.utc)).strftime(\"%y%m%d\")\n",
    "\n",
    "if int(utchr) in range(3,12):\n",
    "    current = str((utc))+\"00\"\n",
    "else:\n",
    "    current = str(utc)+\"12\"\n",
    "\n",
    "URL = 'https://www.spc.noaa.gov/exper/soundings/'+current+'_OBS/DVN.txt'\n",
    "page = requests.get(URL)\n",
    "soup = (BeautifulSoup(page.content, 'html.parser'))\n",
    "f = (soup.get_text())\n",
    "snd = (f[f.find(\"%RAW%\")+6:f.find(\"%END%\")]).split('\\n')\n",
    "\n",
    "dat =[]\n",
    "for i in snd[1:-1]:\n",
    "    com = i.split(\",\")\n",
    "    t = (com[0]).strip(' ')\n",
    "    if float(t) >= 850.00:\n",
    "        dat.append(i.split(','))\n",
    "data = []\n",
    "for i in dat:\n",
    "    v=[]\n",
    "    for x in i:\n",
    "        v.append(float(x))\n",
    "    data.append(v)\n",
    "\n",
    "tmax=([i[2] for i in data]).index(max([i[2] for i in data]))\n",
    "\n",
    "for i in data:\n",
    "    if i[0]==850.0:\n",
    "        temp850 = i[2]\n",
    "Tmax850 = round(((((temp850)+273.15)*((data[0][0]/850)**0.286)-273.15)* (9/5))+32)\n",
    "\n",
    "Tmax = round(((((data[tmax][2])+273.15)*((data[0][0]/850)**0.286)-273.15)* (9/5))+32)\n",
    "\n",
    "\n",
    "\n",
    "\n",
    "print(\"Sounding data from: DVN at\", current,\"\\n\")\n",
    "print(\"Based on warmest temp between 850mb\")\n",
    "print(\"Today's High will be around:\",'%d\\N{DEGREE SIGN}' \"F\" %Tmax)\n",
    "print(\"#################################################################\")\n",
    "print(\"Based on the 850mb temp alone\")\n",
    "print(\"Today's High will be around:\",'%d\\N{DEGREE SIGN}' \"F\" %Tmax850)\n"
   ]
  },
  {
   "cell_type": "code",
   "execution_count": 2,
   "id": "c222bb57-c447-498f-9f14-80fa94756ae0",
   "metadata": {},
   "outputs": [
    {
     "name": "stdin",
     "output_type": "stream",
     "text": [
      "What is the pressure reading at the surface (hPa)         992\n",
      "What is the temperature at 850mb (°C)         6.4\n"
     ]
    },
    {
     "name": "stdout",
     "output_type": "stream",
     "text": [
      "The high will be around: 66°F\n"
     ]
    }
   ],
   "source": [
    "#Use this Script for a manual input\n",
    "\n",
    "\n",
    "sfc = float(input(\"What is the pressure reading at the surface (hPa)        \"))\n",
    "t850 = float(input(\"What is the temperature at 850mb (°C)        \"))\n",
    "\n",
    "Tmax = round(((((float(t850))+273.15)*((float(sfc)/850)**0.286)-273.15)* (9/5))+32)\n",
    "\n",
    "print(\"The high will be around:\",'%d\\N{DEGREE SIGN}' \"F\" %Tmax)"
   ]
  }
 ],
 "metadata": {
  "kernelspec": {
   "display_name": "Python 3 (ipykernel)",
   "language": "python",
   "name": "python3"
  },
  "language_info": {
   "codemirror_mode": {
    "name": "ipython",
    "version": 3
   },
   "file_extension": ".py",
   "mimetype": "text/x-python",
   "name": "python",
   "nbconvert_exporter": "python",
   "pygments_lexer": "ipython3",
   "version": "3.10.16"
  }
 },
 "nbformat": 4,
 "nbformat_minor": 5
}
